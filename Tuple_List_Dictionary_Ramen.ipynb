{
  "cells": [
    {
      "cell_type": "markdown",
      "metadata": {
        "id": "view-in-github",
        "colab_type": "text"
      },
      "source": [
        "<a href=\"https://colab.research.google.com/github/Rami-RK/learn_github/blob/main/Tuple_List_Dictionary_Ramen.ipynb\" target=\"_parent\"><img src=\"https://colab.research.google.com/assets/colab-badge.svg\" alt=\"Open In Colab\"/></a>"
      ]
    },
    {
      "cell_type": "markdown",
      "metadata": {
        "id": "DhfaYipY2Zu4"
      },
      "source": [
        "### Tuple\n",
        "* Coma seperated sequence of numbers or any characters with or without parenthesis."
      ]
    },
    {
      "cell_type": "code",
      "execution_count": 1,
      "metadata": {
        "id": "Q9AHIDOi2ZvD",
        "outputId": "985f656d-7dfc-4c29-ce3e-3cd4ea25e2e8",
        "colab": {
          "base_uri": "https://localhost:8080/"
        }
      },
      "outputs": [
        {
          "output_type": "stream",
          "name": "stdout",
          "text": [
            "(4, 5, 6)\n",
            "(55, 66, 77)\n"
          ]
        },
        {
          "output_type": "execute_result",
          "data": {
            "text/plain": [
              "('a', 3, 'b', 'c')"
            ]
          },
          "metadata": {},
          "execution_count": 1
        }
      ],
      "source": [
        "T1 = 4, 5, 6       # Without parenthesis\n",
        "print(T1)\n",
        "T2=(55,66,77)      # With paranthesis\n",
        "print(T2)     \n",
        "T3='a',3,'b','c'   # Mixed Data Type string and integer\n",
        "T3"
      ]
    },
    {
      "cell_type": "code",
      "source": [
        "T2=(4,5,6,7,8,9,10)\n",
        "T2"
      ],
      "metadata": {
        "id": "4sf8ePmOZoHJ",
        "outputId": "0bcec0af-83a2-4c8f-9057-456ca192ec9f",
        "colab": {
          "base_uri": "https://localhost:8080/"
        }
      },
      "execution_count": 2,
      "outputs": [
        {
          "output_type": "execute_result",
          "data": {
            "text/plain": [
              "(4, 5, 6, 7, 8, 9, 10)"
            ]
          },
          "metadata": {},
          "execution_count": 2
        }
      ]
    },
    {
      "cell_type": "markdown",
      "metadata": {
        "id": "30bCuhCS2ZvM"
      },
      "source": [
        "We can see, result will be always with parenthesis."
      ]
    },
    {
      "cell_type": "code",
      "execution_count": null,
      "metadata": {
        "id": "mAmM59CJ2ZvQ",
        "outputId": "a83b27da-90bf-4ebd-d475-862c2182f816"
      },
      "outputs": [
        {
          "data": {
            "text/plain": [
              "('a', 3, 'b', 'c')"
            ]
          },
          "execution_count": 3,
          "metadata": {},
          "output_type": "execute_result"
        }
      ],
      "source": [
        "astr='a',3,'b','c'\n",
        "astr"
      ]
    },
    {
      "cell_type": "code",
      "execution_count": null,
      "metadata": {
        "id": "Wsa_gN9S2ZvS"
      },
      "outputs": [],
      "source": [
        "w=('7','a')"
      ]
    },
    {
      "cell_type": "code",
      "execution_count": null,
      "metadata": {
        "id": "3j_kmucC2ZvU",
        "outputId": "d9a9dba6-9043-4743-af63-869be083f850"
      },
      "outputs": [
        {
          "data": {
            "text/plain": [
              "tuple"
            ]
          },
          "execution_count": 2,
          "metadata": {},
          "output_type": "execute_result"
        }
      ],
      "source": [
        "#checking type\n",
        "type(w) # return the type of data "
      ]
    },
    {
      "cell_type": "code",
      "execution_count": null,
      "metadata": {
        "id": "43M6Uw__2ZvW",
        "outputId": "87ab9576-0b45-454d-f0be-363b0fae2922"
      },
      "outputs": [
        {
          "data": {
            "text/plain": [
              "((4, 5, 6), (7, 8))"
            ]
          },
          "execution_count": 3,
          "metadata": {},
          "output_type": "execute_result"
        }
      ],
      "source": [
        "r1 = ((4, 5, 6), (7, 8))\n",
        "r1"
      ]
    },
    {
      "cell_type": "code",
      "execution_count": null,
      "metadata": {
        "id": "_pLAE2qu2ZvY",
        "outputId": "3cf77907-9c1c-4627-9451-9f6e9fdaa188"
      },
      "outputs": [
        {
          "data": {
            "text/plain": [
              "[4, 0, 2]"
            ]
          },
          "execution_count": 10,
          "metadata": {},
          "output_type": "execute_result"
        }
      ],
      "source": [
        "l1=[4, 0, 2] # this is list> coma seperated items inside square bracket\n",
        "l1"
      ]
    },
    {
      "cell_type": "code",
      "execution_count": null,
      "metadata": {
        "id": "DHVf6HyV2Zva",
        "outputId": "626b6ded-02b0-4fc6-a92f-397909a78e73"
      },
      "outputs": [
        {
          "data": {
            "text/plain": [
              "(4, 0, 2)"
            ]
          },
          "execution_count": 11,
          "metadata": {},
          "output_type": "execute_result"
        }
      ],
      "source": [
        "az=tuple(l1)\n",
        "az"
      ]
    },
    {
      "cell_type": "code",
      "execution_count": null,
      "metadata": {
        "id": "WKE0_pa62Zvc",
        "outputId": "30f54fb7-1340-4242-bf29-b88b8108de04"
      },
      "outputs": [
        {
          "data": {
            "text/plain": [
              "4"
            ]
          },
          "execution_count": 103,
          "metadata": {},
          "output_type": "execute_result"
        }
      ],
      "source": [
        "az[0]"
      ]
    },
    {
      "cell_type": "code",
      "execution_count": null,
      "metadata": {
        "collapsed": true,
        "id": "2Jql0OLi2Zvg",
        "outputId": "1b42143e-bcb7-45e0-bf22-d19695d4ca69"
      },
      "outputs": [
        {
          "ename": "TypeError",
          "evalue": "'tuple' object does not support item assignment",
          "output_type": "error",
          "traceback": [
            "\u001b[1;31m---------------------------------------------------------------------------\u001b[0m",
            "\u001b[1;31mTypeError\u001b[0m                                 Traceback (most recent call last)",
            "\u001b[1;32m<ipython-input-35-4846035132be>\u001b[0m in \u001b[0;36m<module>\u001b[1;34m\u001b[0m\n\u001b[1;32m----> 1\u001b[1;33m \u001b[0maz\u001b[0m\u001b[1;33m[\u001b[0m\u001b[1;36m0\u001b[0m\u001b[1;33m]\u001b[0m\u001b[1;33m=\u001b[0m\u001b[1;36m99\u001b[0m\u001b[1;33m\u001b[0m\u001b[1;33m\u001b[0m\u001b[0m\n\u001b[0m",
            "\u001b[1;31mTypeError\u001b[0m: 'tuple' object does not support item assignment"
          ]
        }
      ],
      "source": [
        "az[0]=99 ## Immutability "
      ]
    },
    {
      "cell_type": "code",
      "execution_count": null,
      "metadata": {
        "id": "IJXw4-_c2Zvk",
        "outputId": "84e8793a-0036-4d3e-9b0c-1d4e1a7d7f75"
      },
      "outputs": [
        {
          "data": {
            "text/plain": [
              "('E', 'l', 'e', 'p', 'h', 'a', 'n', 't')"
            ]
          },
          "execution_count": 104,
          "metadata": {},
          "output_type": "execute_result"
        }
      ],
      "source": [
        "tup = tuple('Elephant')\n",
        "tup"
      ]
    },
    {
      "cell_type": "code",
      "execution_count": null,
      "metadata": {
        "id": "xhvUKuO-2Zvm",
        "outputId": "f08cb852-6280-438d-8721-c2154dfd7efe"
      },
      "outputs": [
        {
          "data": {
            "text/plain": [
              "'E'"
            ]
          },
          "execution_count": 105,
          "metadata": {},
          "output_type": "execute_result"
        }
      ],
      "source": [
        "tup[0]"
      ]
    },
    {
      "cell_type": "code",
      "execution_count": null,
      "metadata": {
        "id": "ANulI9oi2Zvn",
        "outputId": "707ca933-0324-4a05-c621-9a0bd7a62683"
      },
      "outputs": [
        {
          "data": {
            "text/plain": [
              "('fast', [1, 2], True)"
            ]
          },
          "execution_count": 36,
          "metadata": {},
          "output_type": "execute_result"
        }
      ],
      "source": [
        "tup = tuple(['fast', [1, 2], True])\n",
        "tup"
      ]
    },
    {
      "cell_type": "code",
      "execution_count": null,
      "metadata": {
        "id": "GjMWsqVp2Zvo",
        "outputId": "00cfc586-36d0-429a-a509-47c55264e708"
      },
      "outputs": [
        {
          "data": {
            "text/plain": [
              "True"
            ]
          },
          "execution_count": 9,
          "metadata": {},
          "output_type": "execute_result"
        }
      ],
      "source": [
        "tup[2]"
      ]
    },
    {
      "cell_type": "code",
      "execution_count": null,
      "metadata": {
        "collapsed": true,
        "id": "qZ2Ti84K2Zvp",
        "outputId": "f25f17f6-ccc9-476d-db03-2d6a454e38b2"
      },
      "outputs": [
        {
          "ename": "TypeError",
          "evalue": "'tuple' object does not support item assignment",
          "output_type": "error",
          "traceback": [
            "\u001b[1;31m---------------------------------------------------------------------------\u001b[0m",
            "\u001b[1;31mTypeError\u001b[0m                                 Traceback (most recent call last)",
            "\u001b[1;32m<ipython-input-11-efb34b9b8065>\u001b[0m in \u001b[0;36m<module>\u001b[1;34m\u001b[0m\n\u001b[1;32m----> 1\u001b[1;33m \u001b[0mtup\u001b[0m\u001b[1;33m[\u001b[0m\u001b[1;36m2\u001b[0m\u001b[1;33m]\u001b[0m \u001b[1;33m=\u001b[0m \u001b[1;34m'False'\u001b[0m\u001b[1;33m\u001b[0m\u001b[1;33m\u001b[0m\u001b[0m\n\u001b[0m",
            "\u001b[1;31mTypeError\u001b[0m: 'tuple' object does not support item assignment"
          ]
        }
      ],
      "source": [
        "tup[2] = False"
      ]
    },
    {
      "cell_type": "code",
      "execution_count": null,
      "metadata": {
        "collapsed": true,
        "id": "blC_Oxdw2Zvr",
        "outputId": "c147dce7-2055-4d92-f184-dfb9823dfa38"
      },
      "outputs": [
        {
          "ename": "AttributeError",
          "evalue": "'bool' object has no attribute 'append'",
          "output_type": "error",
          "traceback": [
            "\u001b[1;31m---------------------------------------------------------------------------\u001b[0m",
            "\u001b[1;31mAttributeError\u001b[0m                            Traceback (most recent call last)",
            "\u001b[1;32m<ipython-input-15-bba82e8741fe>\u001b[0m in \u001b[0;36m<module>\u001b[1;34m\u001b[0m\n\u001b[1;32m----> 1\u001b[1;33m \u001b[0mtup\u001b[0m\u001b[1;33m[\u001b[0m\u001b[1;36m2\u001b[0m\u001b[1;33m]\u001b[0m\u001b[1;33m.\u001b[0m\u001b[0mappend\u001b[0m\u001b[1;33m(\u001b[0m\u001b[1;36m2\u001b[0m\u001b[1;33m)\u001b[0m\u001b[1;33m\u001b[0m\u001b[1;33m\u001b[0m\u001b[0m\n\u001b[0m\u001b[0;32m      2\u001b[0m \u001b[0mtup\u001b[0m\u001b[1;33m\u001b[0m\u001b[1;33m\u001b[0m\u001b[0m\n",
            "\u001b[1;31mAttributeError\u001b[0m: 'bool' object has no attribute 'append'"
          ]
        }
      ],
      "source": [
        "tup[2].append(2)\n",
        "tup"
      ]
    },
    {
      "cell_type": "code",
      "execution_count": null,
      "metadata": {
        "id": "fww8j4Xo2Zvs",
        "outputId": "713df8ab-e1ac-4db6-ed2a-bc6487b9b067"
      },
      "outputs": [
        {
          "data": {
            "text/plain": [
              "('foo', [1, 2, 3], True)"
            ]
          },
          "execution_count": 16,
          "metadata": {},
          "output_type": "execute_result"
        }
      ],
      "source": [
        "tup[1].append(3)\n",
        "tup"
      ]
    },
    {
      "cell_type": "code",
      "execution_count": null,
      "metadata": {
        "collapsed": true,
        "id": "NKpkwmv_2Zvt",
        "outputId": "5b0d0a6b-cb4f-4b7f-e4dc-5de19c7921c3"
      },
      "outputs": [
        {
          "ename": "AttributeError",
          "evalue": "'str' object has no attribute 'append'",
          "output_type": "error",
          "traceback": [
            "\u001b[1;31m---------------------------------------------------------------------------\u001b[0m",
            "\u001b[1;31mAttributeError\u001b[0m                            Traceback (most recent call last)",
            "\u001b[1;32m<ipython-input-20-d1ae6839533c>\u001b[0m in \u001b[0;36m<module>\u001b[1;34m\u001b[0m\n\u001b[1;32m----> 1\u001b[1;33m \u001b[0mtup\u001b[0m\u001b[1;33m[\u001b[0m\u001b[1;36m0\u001b[0m\u001b[1;33m]\u001b[0m\u001b[1;33m.\u001b[0m\u001b[0mappend\u001b[0m\u001b[1;33m(\u001b[0m\u001b[1;36m3\u001b[0m\u001b[1;33m)\u001b[0m\u001b[1;33m\u001b[0m\u001b[1;33m\u001b[0m\u001b[0m\n\u001b[0m\u001b[0;32m      2\u001b[0m \u001b[0mtup\u001b[0m\u001b[1;33m\u001b[0m\u001b[1;33m\u001b[0m\u001b[0m\n",
            "\u001b[1;31mAttributeError\u001b[0m: 'str' object has no attribute 'append'"
          ]
        }
      ],
      "source": [
        "tup[0].append(3)\n",
        "tup"
      ]
    },
    {
      "cell_type": "code",
      "execution_count": null,
      "metadata": {
        "id": "S2zawLnR2Zvu"
      },
      "outputs": [],
      "source": [
        "x1=(4, None, 'foo')\n",
        "x2=(6, 0)\n",
        "x3=('bar',)\n",
        "XX=x1+x2+x3"
      ]
    },
    {
      "cell_type": "code",
      "execution_count": null,
      "metadata": {
        "id": "eu1MbSvc2Zvw",
        "outputId": "ac3a3db3-8a2c-4501-872d-bb3f0724f97a"
      },
      "outputs": [
        {
          "data": {
            "text/plain": [
              "(4, None, 'foo')"
            ]
          },
          "execution_count": 5,
          "metadata": {},
          "output_type": "execute_result"
        }
      ],
      "source": [
        "x1"
      ]
    },
    {
      "cell_type": "code",
      "execution_count": null,
      "metadata": {
        "id": "s70YMnOV2Zvx",
        "outputId": "ce6f72a7-4bbc-4089-9c07-12389b2f3523"
      },
      "outputs": [
        {
          "data": {
            "text/plain": [
              "(4, None, 'foo', 6, 0, 'bar')"
            ]
          },
          "execution_count": 7,
          "metadata": {},
          "output_type": "execute_result"
        }
      ],
      "source": [
        "XX"
      ]
    },
    {
      "cell_type": "code",
      "execution_count": null,
      "metadata": {
        "id": "-4a_h01-2Zvy",
        "outputId": "bd2deb57-20d5-4278-b183-2b2402211c9b"
      },
      "outputs": [
        {
          "data": {
            "text/plain": [
              "(4, None, 'foo', 6, 0, 'bar')"
            ]
          },
          "execution_count": 112,
          "metadata": {},
          "output_type": "execute_result"
        }
      ],
      "source": [
        "(4, None, 'foo') + (6, 0) + ('bar',) ## Tuple concatenation"
      ]
    },
    {
      "cell_type": "markdown",
      "metadata": {
        "id": "-7LXeR932Zv0"
      },
      "source": [
        "#### Unpacking tuples"
      ]
    },
    {
      "cell_type": "code",
      "execution_count": null,
      "metadata": {
        "id": "1zN5N_H52Zv1"
      },
      "outputs": [],
      "source": [
        "tup = (4, 5, 6)\n",
        "a, b, c = tup"
      ]
    },
    {
      "cell_type": "code",
      "execution_count": null,
      "metadata": {
        "id": "2eKS8lo92Zv2",
        "outputId": "0f853f1a-943e-4ec8-d60b-7380aba1cefc"
      },
      "outputs": [
        {
          "data": {
            "text/plain": [
              "5"
            ]
          },
          "execution_count": 9,
          "metadata": {},
          "output_type": "execute_result"
        }
      ],
      "source": [
        "b"
      ]
    },
    {
      "cell_type": "code",
      "execution_count": null,
      "metadata": {
        "id": "muhbpFaZ2Zv2",
        "outputId": "f80f0e11-10ba-4f65-d306-20da35afdfe6"
      },
      "outputs": [
        {
          "name": "stdout",
          "output_type": "stream",
          "text": [
            "1\n",
            "4\n",
            "7\n"
          ]
        }
      ],
      "source": [
        "seq = [(1, 2, 3), (4, 5, 6), (7, 8, 9)]\n",
        "for i in seq:\n",
        "    print(i[0])\n",
        "    #print(i)"
      ]
    },
    {
      "cell_type": "code",
      "execution_count": null,
      "metadata": {
        "id": "A7yS5NCd2Zv3",
        "outputId": "1c2f00e9-340c-4449-f516-f3121f3b4e59"
      },
      "outputs": [
        {
          "name": "stdout",
          "output_type": "stream",
          "text": [
            "a=1, b=2, c=3\n",
            "a=4, b=5, c=6\n",
            "a=7, b=8, c=9\n"
          ]
        }
      ],
      "source": [
        "seq = [(1, 2, 3), (4, 5, 6), (7, 8, 9)]\n",
        "for a,b,c in seq:\n",
        "    print('a={0}, b={1}, c={2}'.format(a, b, c))"
      ]
    },
    {
      "cell_type": "code",
      "execution_count": null,
      "metadata": {
        "id": "ilmBJZb_2Zv5",
        "outputId": "7a25e250-d6b4-4fd3-e2c3-476651e84868"
      },
      "outputs": [
        {
          "data": {
            "text/plain": [
              "[3, 4, 5]"
            ]
          },
          "execution_count": 12,
          "metadata": {},
          "output_type": "execute_result"
        }
      ],
      "source": [
        "values = 1, 2, 3, 4, 5\n",
        "a, b, *remain = values\n",
        "a, b\n",
        "remain # remaining member after a and b, return as list assigned in variable rest"
      ]
    },
    {
      "cell_type": "markdown",
      "metadata": {
        "id": "3Vukt_3C2Zv6"
      },
      "source": [
        "#### Tuple methods"
      ]
    },
    {
      "cell_type": "code",
      "execution_count": null,
      "metadata": {
        "id": "YPjtTInX2Zv6",
        "outputId": "21d248da-6d57-4fd1-9ad2-a1bd97f95f16"
      },
      "outputs": [
        {
          "data": {
            "text/plain": [
              "4"
            ]
          },
          "execution_count": 158,
          "metadata": {},
          "output_type": "execute_result"
        }
      ],
      "source": [
        "a = (1, 2, 2, 2, 3, 4, 2)\n",
        "a.count(2)"
      ]
    },
    {
      "cell_type": "code",
      "execution_count": null,
      "metadata": {
        "id": "VB8vY4bk2Zv7",
        "outputId": "1484eac3-e212-463c-ca1e-12ad3bff0ef2"
      },
      "outputs": [
        {
          "data": {
            "text/plain": [
              "16"
            ]
          },
          "execution_count": 134,
          "metadata": {},
          "output_type": "execute_result"
        }
      ],
      "source": [
        "sum(a)"
      ]
    },
    {
      "cell_type": "code",
      "execution_count": null,
      "metadata": {
        "id": "E56jpkZM2Zv9",
        "outputId": "806bdf29-9900-4868-8c37-503ad6627995"
      },
      "outputs": [
        {
          "data": {
            "text/plain": [
              "7"
            ]
          },
          "execution_count": 33,
          "metadata": {},
          "output_type": "execute_result"
        }
      ],
      "source": [
        "len(a)"
      ]
    },
    {
      "cell_type": "markdown",
      "metadata": {
        "id": "u-NHjuH32Zv_"
      },
      "source": [
        "### List"
      ]
    },
    {
      "cell_type": "code",
      "execution_count": null,
      "metadata": {
        "id": "Llz0Gy3j2ZwD",
        "outputId": "0733e658-f030-4ff1-e590-18042fbc10a3"
      },
      "outputs": [
        {
          "data": {
            "text/plain": [
              "[2, 3, 7, 'None']"
            ]
          },
          "execution_count": 132,
          "metadata": {},
          "output_type": "execute_result"
        }
      ],
      "source": [
        "a1 = [2, 3, 7, 'None']\n",
        "a1"
      ]
    },
    {
      "cell_type": "code",
      "execution_count": null,
      "metadata": {
        "id": "9azEghb52ZwF"
      },
      "outputs": [],
      "source": [
        ""
      ]
    },
    {
      "cell_type": "code",
      "execution_count": null,
      "metadata": {
        "id": "_Gyyx2B-2ZwG",
        "outputId": "cfd4be42-84ff-4872-c437-94be84ad5c8e"
      },
      "outputs": [
        {
          "data": {
            "text/plain": [
              "['full', 'half', 'quarter']"
            ]
          },
          "execution_count": 21,
          "metadata": {},
          "output_type": "execute_result"
        }
      ],
      "source": [
        "tup = ('full', 'half', 'quarter')\n",
        "b = list(tup)\n",
        "b"
      ]
    },
    {
      "cell_type": "code",
      "execution_count": null,
      "metadata": {
        "id": "-9tezziN2ZwH",
        "outputId": "80368931-90b5-4fa3-9b92-54f7e0c5c55e"
      },
      "outputs": [
        {
          "data": {
            "text/plain": [
              "[\"can't handle\", 'half', 'quarter']"
            ]
          },
          "execution_count": 22,
          "metadata": {},
          "output_type": "execute_result"
        }
      ],
      "source": [
        "b[0] = \"can't handle\" ## List is mutable\n",
        "b"
      ]
    },
    {
      "cell_type": "code",
      "execution_count": null,
      "metadata": {
        "id": "wMHrVysK2ZwI",
        "outputId": "d6ae78df-4cec-4428-ea69-fa4039dc9759"
      },
      "outputs": [
        {
          "data": {
            "text/plain": [
              "range(0, 10)"
            ]
          },
          "execution_count": 13,
          "metadata": {},
          "output_type": "execute_result"
        }
      ],
      "source": [
        "range(10)"
      ]
    },
    {
      "cell_type": "code",
      "execution_count": null,
      "metadata": {
        "id": "qraF17_32ZwK",
        "outputId": "7662e816-1c7f-4c31-94c3-9c3d8ddc6adb"
      },
      "outputs": [
        {
          "data": {
            "text/plain": [
              "[0, 1, 2, 3, 4, 5, 6, 7, 8, 9]"
            ]
          },
          "execution_count": 140,
          "metadata": {},
          "output_type": "execute_result"
        }
      ],
      "source": [
        "g = range(10)\n",
        "g\n",
        "list(g)"
      ]
    },
    {
      "cell_type": "markdown",
      "metadata": {
        "id": "6NtoCN462ZwM"
      },
      "source": [
        "### Adding and removing elements"
      ]
    },
    {
      "cell_type": "code",
      "execution_count": null,
      "metadata": {
        "id": "TQsxSm5Y2ZwN",
        "outputId": "d246cbb8-bbaf-4cd2-ddc2-e6d95e3d14e1"
      },
      "outputs": [
        {
          "data": {
            "text/plain": [
              "[\"can't handle\", 'half', 'quarter', \"Teacher's\"]"
            ]
          },
          "execution_count": 23,
          "metadata": {},
          "output_type": "execute_result"
        }
      ],
      "source": [
        "b.append(\"Teacher's\")\n",
        "b"
      ]
    },
    {
      "cell_type": "code",
      "execution_count": null,
      "metadata": {
        "id": "3DykRYyW2ZwT",
        "outputId": "c54dac96-e9e6-468e-de1a-663d1ad247a1"
      },
      "outputs": [
        {
          "data": {
            "text/plain": [
              "[\"can't handle\", 'red label', 'half', 'quarter', \"Teacher's\"]"
            ]
          },
          "execution_count": 24,
          "metadata": {},
          "output_type": "execute_result"
        }
      ],
      "source": [
        "b.insert(1, 'red label')\n",
        "b"
      ]
    },
    {
      "cell_type": "code",
      "execution_count": null,
      "metadata": {
        "id": "IN6iRyqq2ZwW",
        "outputId": "609a2e44-c408-40e6-e5bb-b5c709f2c2b8"
      },
      "outputs": [
        {
          "data": {
            "text/plain": [
              "[\"can't handle\", 'red label', 'quarter', \"Teacher's\"]"
            ]
          },
          "execution_count": 25,
          "metadata": {},
          "output_type": "execute_result"
        }
      ],
      "source": [
        "b.pop(2)\n",
        "b"
      ]
    },
    {
      "cell_type": "code",
      "execution_count": null,
      "metadata": {
        "id": "AaA6CH4O2ZwW",
        "outputId": "6c5bcca5-d037-40b4-fc2c-3c759a1a0064"
      },
      "outputs": [
        {
          "data": {
            "text/plain": [
              "[\"can't handle\", 'red label', 'quarter', \"Teacher's\", 'like']"
            ]
          },
          "execution_count": 26,
          "metadata": {},
          "output_type": "execute_result"
        }
      ],
      "source": [
        "b.append('like')\n",
        "b"
      ]
    },
    {
      "cell_type": "code",
      "execution_count": null,
      "metadata": {
        "id": "jRHYRqRS2ZwX",
        "outputId": "a4fe1804-65eb-4591-96cc-1788c605a7bf"
      },
      "outputs": [
        {
          "data": {
            "text/plain": [
              "[\"can't handle\", 'red label', 'quarter', \"Teacher's\"]"
            ]
          },
          "execution_count": 27,
          "metadata": {},
          "output_type": "execute_result"
        }
      ],
      "source": [
        "b.remove('like')\n",
        "b"
      ]
    },
    {
      "cell_type": "code",
      "execution_count": null,
      "metadata": {
        "id": "NiQH-LOd2ZwY",
        "outputId": "ba15f474-43fe-42be-9672-1b176f52fc88"
      },
      "outputs": [
        {
          "data": {
            "text/plain": [
              "True"
            ]
          },
          "execution_count": 60,
          "metadata": {},
          "output_type": "execute_result"
        }
      ],
      "source": [
        "'red label' in b"
      ]
    },
    {
      "cell_type": "code",
      "execution_count": null,
      "metadata": {
        "id": "COrEhoKh2Zwa",
        "outputId": "07cee5e6-39f8-45d2-f0a1-5ef80052c061"
      },
      "outputs": [
        {
          "data": {
            "text/plain": [
              "True"
            ]
          },
          "execution_count": 61,
          "metadata": {},
          "output_type": "execute_result"
        }
      ],
      "source": [
        "'like' not in b_list"
      ]
    },
    {
      "cell_type": "markdown",
      "metadata": {
        "id": "ctZ5dUK42Zwb"
      },
      "source": [
        "### Concatenating and combining lists"
      ]
    },
    {
      "cell_type": "code",
      "execution_count": null,
      "metadata": {
        "id": "2n4cv0fM2Zwc",
        "outputId": "bd466821-b08b-4e4a-8db1-fc9be201fce2"
      },
      "outputs": [
        {
          "data": {
            "text/plain": [
              "[4, None, 'foo', 7, 8, (2, 3)]"
            ]
          },
          "execution_count": 44,
          "metadata": {},
          "output_type": "execute_result"
        }
      ],
      "source": [
        "[4, None, 'foo'] + [7, 8, (2, 3)]"
      ]
    },
    {
      "cell_type": "code",
      "execution_count": null,
      "metadata": {
        "id": "gxGl1UDk2Zwd",
        "outputId": "75ec8388-5711-4d92-ba5c-447bfbcc7ee0"
      },
      "outputs": [
        {
          "data": {
            "text/plain": [
              "[4, None, 'ful', 7, 8, (2, 3)]"
            ]
          },
          "execution_count": 46,
          "metadata": {},
          "output_type": "execute_result"
        }
      ],
      "source": [
        "x = [4, None, 'ful']\n",
        "x.extend([7, 8, (2, 3)]) ## Same as adding\n",
        "x"
      ]
    },
    {
      "cell_type": "markdown",
      "metadata": {
        "id": "k0luY6pT2Zwe"
      },
      "source": [
        "#### Sorting"
      ]
    },
    {
      "cell_type": "code",
      "execution_count": null,
      "metadata": {
        "id": "3Lts1xMP2Zwf",
        "outputId": "219ff30e-cec4-409b-d817-adb91c5cf46e"
      },
      "outputs": [
        {
          "data": {
            "text/plain": [
              "[1, 2, 3, 5, 7]"
            ]
          },
          "execution_count": 62,
          "metadata": {},
          "output_type": "execute_result"
        }
      ],
      "source": [
        "a = [7, 2, 5, 1, 3]\n",
        "a.sort()\n",
        "a"
      ]
    },
    {
      "cell_type": "code",
      "execution_count": null,
      "metadata": {
        "id": "rS0Y_wkI2Zwh",
        "outputId": "e75c0047-714b-4a47-c0e5-445d7047e8ae"
      },
      "outputs": [
        {
          "data": {
            "text/plain": [
              "['He', 'foxes', 'saw', 'six', 'small']"
            ]
          },
          "execution_count": 144,
          "metadata": {},
          "output_type": "execute_result"
        }
      ],
      "source": [
        "b = ['saw', 'small', 'He', 'foxes', 'six']\n",
        "b.sort()# sort in alphabetical order\n",
        "b"
      ]
    },
    {
      "cell_type": "code",
      "execution_count": null,
      "metadata": {
        "id": "1JvuLoWz2Zwj",
        "outputId": "db30359a-f3c5-427c-c9fa-4022b055771c"
      },
      "outputs": [
        {
          "data": {
            "text/plain": [
              "['He', 'saw', 'six', 'small', 'foxes']"
            ]
          },
          "execution_count": 143,
          "metadata": {},
          "output_type": "execute_result"
        }
      ],
      "source": [
        "b = ['saw', 'small', 'He', 'foxes', 'six']\n",
        "b.sort(key=len) ## Sort according to lenth of each elements\n",
        "b"
      ]
    },
    {
      "cell_type": "markdown",
      "metadata": {
        "id": "zSy41BAp2Zwl"
      },
      "source": [
        "#### Slicing"
      ]
    },
    {
      "cell_type": "code",
      "execution_count": null,
      "metadata": {
        "id": "-LnoRIhT2Zwl",
        "outputId": "1336668b-1c9f-4466-e582-02af3d758b89"
      },
      "outputs": [
        {
          "data": {
            "text/plain": [
              "[2, 3, 7, 5]"
            ]
          },
          "execution_count": 42,
          "metadata": {},
          "output_type": "execute_result"
        }
      ],
      "source": [
        "set1 = [7, 2, 3, 7, 5, 6, 0, 1]\n",
        "set1[1:5]"
      ]
    },
    {
      "cell_type": "code",
      "execution_count": null,
      "metadata": {
        "id": "wm01eENT2Zwm",
        "outputId": "cd0ed5da-3e91-4080-af78-98e97caef2d9"
      },
      "outputs": [
        {
          "data": {
            "text/plain": [
              "[7, 2, 3, 6, 3, 6, 0, 1]"
            ]
          },
          "execution_count": 43,
          "metadata": {},
          "output_type": "execute_result"
        }
      ],
      "source": [
        "set1[3:5] = [6,3]\n",
        "set1"
      ]
    },
    {
      "cell_type": "code",
      "execution_count": null,
      "metadata": {
        "id": "3KRKH6ET2Zwn",
        "outputId": "b4fb3b62-685b-48c6-f329-a15d367dde01"
      },
      "outputs": [
        {
          "data": {
            "text/plain": [
              "[7, 2, 3, 6, 3, 3, 6, 0, 1]"
            ]
          },
          "execution_count": 39,
          "metadata": {},
          "output_type": "execute_result"
        }
      ],
      "source": [
        "#set1[3:4] = [6,3]\n",
        "#set1   ### What is happening check yourself?"
      ]
    },
    {
      "cell_type": "code",
      "execution_count": null,
      "metadata": {
        "id": "s3uOLry12Zwo",
        "outputId": "a24a1b8d-8d9a-450c-e116-03315a3c9f6d"
      },
      "outputs": [
        {
          "data": {
            "text/plain": [
              "[7, 2, 3, 6, 3]"
            ]
          },
          "execution_count": 44,
          "metadata": {},
          "output_type": "execute_result"
        }
      ],
      "source": [
        "set1[:5]"
      ]
    },
    {
      "cell_type": "code",
      "execution_count": null,
      "metadata": {
        "id": "_fMP6g3w2Zwp",
        "outputId": "fa1fe4b7-b416-449e-c0b9-58a501a599d1"
      },
      "outputs": [
        {
          "data": {
            "text/plain": [
              "[6, 3, 6, 0, 1]"
            ]
          },
          "execution_count": 45,
          "metadata": {},
          "output_type": "execute_result"
        }
      ],
      "source": [
        "set1[3:]"
      ]
    },
    {
      "cell_type": "code",
      "execution_count": null,
      "metadata": {
        "id": "TukYdZ4Y2Zwp",
        "outputId": "5dbce625-ce95-4890-d471-b7b92578c984"
      },
      "outputs": [
        {
          "data": {
            "text/plain": [
              "[5, 6, 0, 1]"
            ]
          },
          "execution_count": 68,
          "metadata": {},
          "output_type": "execute_result"
        }
      ],
      "source": [
        "set1[-4:]"
      ]
    },
    {
      "cell_type": "code",
      "execution_count": null,
      "metadata": {
        "id": "zBIay97y2Zwq",
        "outputId": "300d63c2-1072-411b-cf33-c85203a07a46"
      },
      "outputs": [
        {
          "data": {
            "text/plain": [
              "[6, 3, 5, 6]"
            ]
          },
          "execution_count": 69,
          "metadata": {},
          "output_type": "execute_result"
        }
      ],
      "source": [
        "set1[-6:-2]"
      ]
    },
    {
      "cell_type": "code",
      "execution_count": null,
      "metadata": {
        "id": "Gu4v4B5t2Zwr",
        "outputId": "65cab052-d932-4fc2-ab95-941b4a1d6324"
      },
      "outputs": [
        {
          "data": {
            "text/plain": [
              "['foo', 'bar', 'baz']"
            ]
          },
          "execution_count": 157,
          "metadata": {},
          "output_type": "execute_result"
        }
      ],
      "source": [
        "set1"
      ]
    },
    {
      "cell_type": "code",
      "execution_count": null,
      "metadata": {
        "id": "x3_aaUQ42Zws"
      },
      "outputs": [],
      "source": [
        ""
      ]
    },
    {
      "cell_type": "code",
      "execution_count": null,
      "metadata": {
        "id": "5XKdoHgD2Zwt",
        "outputId": "dfea205d-1b07-43e5-f237-71ab3bf00b84"
      },
      "outputs": [
        {
          "data": {
            "text/plain": [
              "[7, 3, 5, 0]"
            ]
          },
          "execution_count": 147,
          "metadata": {},
          "output_type": "execute_result"
        }
      ],
      "source": [
        "set1[::2]  ## Be careful !! What is happening here?"
      ]
    },
    {
      "cell_type": "code",
      "execution_count": null,
      "metadata": {
        "id": "t4ShmQgD2Zwt",
        "outputId": "23d5723a-e81d-4294-9bee-ef0728a49609"
      },
      "outputs": [
        {
          "data": {
            "text/plain": [
              "[1, 0, 6, 5, 3, 6, 3, 2, 7]"
            ]
          },
          "execution_count": 71,
          "metadata": {},
          "output_type": "execute_result"
        }
      ],
      "source": [
        "set1[::-1]## such beutiful code! Wow!!"
      ]
    },
    {
      "cell_type": "markdown",
      "metadata": {
        "id": "kcf3hh5h2Zwu"
      },
      "source": [
        "### zip"
      ]
    },
    {
      "cell_type": "code",
      "execution_count": null,
      "metadata": {
        "id": "O3mb-xqL2Zwu",
        "outputId": "9b6f32c7-dd8b-4dff-bf14-a7ac85804030"
      },
      "outputs": [
        {
          "data": {
            "text/plain": [
              "[('foo', 'one'), ('bar', 'two'), ('baz', 'three')]"
            ]
          },
          "execution_count": 46,
          "metadata": {},
          "output_type": "execute_result"
        }
      ],
      "source": [
        "set1 = ['foo', 'bar', 'baz']\n",
        "set2 = ['one', 'two', 'three']\n",
        "zipped = zip(set1, set2)\n",
        "list(zipped)"
      ]
    },
    {
      "cell_type": "code",
      "execution_count": null,
      "metadata": {
        "id": "BpCtpISG2Zwu",
        "outputId": "e92ffe53-7969-43b3-f39b-21dc39150656"
      },
      "outputs": [
        {
          "data": {
            "text/plain": [
              "<zip at 0x524e2c8>"
            ]
          },
          "execution_count": 47,
          "metadata": {},
          "output_type": "execute_result"
        }
      ],
      "source": [
        "zipped"
      ]
    },
    {
      "cell_type": "markdown",
      "metadata": {
        "id": "wXCsmVxL2Zwv"
      },
      "source": [
        "#### reversed"
      ]
    },
    {
      "cell_type": "code",
      "execution_count": null,
      "metadata": {
        "id": "W1Gq9FmD2Zww",
        "outputId": "9cdf1216-d7cf-456a-d810-c29c6b32085b"
      },
      "outputs": [
        {
          "data": {
            "text/plain": [
              "[0, 1, 2, 3, 4, 5, 6, 7, 8, 9]"
            ]
          },
          "execution_count": 48,
          "metadata": {},
          "output_type": "execute_result"
        }
      ],
      "source": [
        "list(range(10))"
      ]
    },
    {
      "cell_type": "code",
      "execution_count": null,
      "metadata": {
        "id": "mLF8FpRi2Zwz",
        "outputId": "6bd9ae79-92f9-4e0c-aaf4-451e368cf58a"
      },
      "outputs": [
        {
          "data": {
            "text/plain": [
              "[9, 8, 7, 6, 5, 4, 3, 2, 1, 0]"
            ]
          },
          "execution_count": 74,
          "metadata": {},
          "output_type": "execute_result"
        }
      ],
      "source": [
        "list(reversed(range(10)))"
      ]
    },
    {
      "cell_type": "markdown",
      "metadata": {
        "id": "s1EaLpqK2Zw1"
      },
      "source": [
        "### dict"
      ]
    },
    {
      "cell_type": "code",
      "execution_count": null,
      "metadata": {
        "id": "8U60zRQd2Zw3",
        "outputId": "7b3e3e48-81f6-46b2-f3e1-053469c0fcd6"
      },
      "outputs": [
        {
          "data": {
            "text/plain": [
              "{'a': 'some value', 'b': [1, 2, 3, 4], 'c': 999}"
            ]
          },
          "execution_count": 51,
          "metadata": {},
          "output_type": "execute_result"
        }
      ],
      "source": [
        "#empty_dict = {}\n",
        "d1 = {'a' : 'some value', 'b' : [1, 2, 3, 4],'c':999}\n",
        "d1"
      ]
    },
    {
      "cell_type": "code",
      "execution_count": null,
      "metadata": {
        "id": "7izDHw5D2Zw5",
        "outputId": "cf36172a-7bd5-407b-de69-bb72884eaa4d"
      },
      "outputs": [
        {
          "data": {
            "text/plain": [
              "[1, 2, 3, 4]"
            ]
          },
          "execution_count": 52,
          "metadata": {},
          "output_type": "execute_result"
        }
      ],
      "source": [
        "d1['b']"
      ]
    },
    {
      "cell_type": "code",
      "execution_count": null,
      "metadata": {
        "id": "zq603dgg2Zw7",
        "outputId": "1b4bb31d-10de-44cf-bc15-1ed26f88e6f1"
      },
      "outputs": [
        {
          "data": {
            "text/plain": [
              "'some value'"
            ]
          },
          "execution_count": 53,
          "metadata": {},
          "output_type": "execute_result"
        }
      ],
      "source": [
        "d1['a']"
      ]
    },
    {
      "cell_type": "code",
      "execution_count": null,
      "metadata": {
        "id": "G5jV04wf2Zw7",
        "outputId": "d4c5d3ab-1cfb-4746-d6ab-2b238cd3a317"
      },
      "outputs": [
        {
          "data": {
            "text/plain": [
              "{'a': 'some value', 'b': [1, 2, 3, 4], 'c': 999, 7: 'an integer'}"
            ]
          },
          "execution_count": 54,
          "metadata": {},
          "output_type": "execute_result"
        }
      ],
      "source": [
        "d1[7] = 'an integer'\n",
        "d1"
      ]
    },
    {
      "cell_type": "code",
      "execution_count": null,
      "metadata": {
        "id": "B8RSUHTV2Zw8",
        "outputId": "8ffb5bcf-d5f4-4bb8-8bce-a4131c6bc63c"
      },
      "outputs": [
        {
          "data": {
            "text/plain": [
              "[1, 2, 3, 4]"
            ]
          },
          "execution_count": 79,
          "metadata": {},
          "output_type": "execute_result"
        }
      ],
      "source": [
        "d1\n",
        "d1['b']"
      ]
    },
    {
      "cell_type": "code",
      "execution_count": null,
      "metadata": {
        "id": "Es_hms1q2Zw9",
        "outputId": "318586ce-9919-481b-90d9-80b1457644aa"
      },
      "outputs": [
        {
          "data": {
            "text/plain": [
              "True"
            ]
          },
          "execution_count": 80,
          "metadata": {},
          "output_type": "execute_result"
        }
      ],
      "source": [
        "'b' in d1"
      ]
    },
    {
      "cell_type": "code",
      "execution_count": null,
      "metadata": {
        "id": "2se3XUxs2Zw9",
        "outputId": "4a4e586d-1b3d-412f-fb6a-74a278575254"
      },
      "outputs": [
        {
          "data": {
            "text/plain": [
              "{'a': 'some value', 'b': [1, 2, 3, 4], 7: 'an integer', 5: 'some value'}"
            ]
          },
          "execution_count": 81,
          "metadata": {},
          "output_type": "execute_result"
        }
      ],
      "source": [
        "d1[5] = 'some value'\n",
        "d1"
      ]
    },
    {
      "cell_type": "code",
      "execution_count": null,
      "metadata": {
        "id": "ZpFj5Q-_2Zw-",
        "outputId": "598ebfca-075f-4fdf-cb4b-992948bf60a2"
      },
      "outputs": [
        {
          "data": {
            "text/plain": [
              "{'a': 'some value',\n",
              " 'b': [1, 2, 3, 4],\n",
              " 'c': 999,\n",
              " 7: 'an integer',\n",
              " 'dummy': 'another value'}"
            ]
          },
          "execution_count": 55,
          "metadata": {},
          "output_type": "execute_result"
        }
      ],
      "source": [
        "d1['dummy'] = 'another value'\n",
        "d1"
      ]
    },
    {
      "cell_type": "code",
      "execution_count": null,
      "metadata": {
        "id": "q3OtM6c92Zw_",
        "outputId": "b027e11a-3fea-4c27-a67e-9f52162d5238"
      },
      "outputs": [
        {
          "data": {
            "text/plain": [
              "{'a': 'some value', 'b': [1, 2, 3, 4], 'c': 999, 'dummy': 'another value'}"
            ]
          },
          "execution_count": 56,
          "metadata": {},
          "output_type": "execute_result"
        }
      ],
      "source": [
        "del d1[7]\n",
        "d1"
      ]
    },
    {
      "cell_type": "code",
      "execution_count": null,
      "metadata": {
        "id": "NRM3rW3G2ZxA",
        "outputId": "25f010eb-5550-4525-97a8-c937b88472b2"
      },
      "outputs": [
        {
          "data": {
            "text/plain": [
              "'another value'"
            ]
          },
          "execution_count": 57,
          "metadata": {},
          "output_type": "execute_result"
        }
      ],
      "source": [
        "ret = d1.pop('dummy')\n",
        "ret ## It gives the member  which is removed\n",
        "#d1"
      ]
    },
    {
      "cell_type": "code",
      "execution_count": null,
      "metadata": {
        "id": "K7NKzmsn2ZxB",
        "outputId": "3e333546-8bb1-4ddb-d27b-ee729d75fd95"
      },
      "outputs": [
        {
          "data": {
            "text/plain": [
              "{'a': 'some value', 'b': [1, 2, 3, 4], 'c': 999}"
            ]
          },
          "execution_count": 58,
          "metadata": {},
          "output_type": "execute_result"
        }
      ],
      "source": [
        "d1"
      ]
    },
    {
      "cell_type": "code",
      "execution_count": null,
      "metadata": {
        "id": "qX2w7-0y2ZxC",
        "outputId": "f8d514c1-762c-4a51-bca4-d25469b7e29f"
      },
      "outputs": [
        {
          "data": {
            "text/plain": [
              "'another value'"
            ]
          },
          "execution_count": 154,
          "metadata": {},
          "output_type": "execute_result"
        }
      ],
      "source": [
        "ret"
      ]
    },
    {
      "cell_type": "code",
      "execution_count": null,
      "metadata": {
        "id": "-q4nAim-2ZxE",
        "outputId": "61256e7b-1bb6-4145-c9d0-23280c6e4ff3"
      },
      "outputs": [
        {
          "data": {
            "text/plain": [
              "dict_keys(['a', 'b', 'c'])"
            ]
          },
          "execution_count": 59,
          "metadata": {},
          "output_type": "execute_result"
        }
      ],
      "source": [
        "d1.keys()"
      ]
    },
    {
      "cell_type": "code",
      "execution_count": null,
      "metadata": {
        "id": "NyUR2mzr2ZxF",
        "outputId": "4b5ade4f-fbfb-4cb4-8d74-122c89d6c66c"
      },
      "outputs": [
        {
          "data": {
            "text/plain": [
              "dict_values(['some value', [1, 2, 3, 4], 999])"
            ]
          },
          "execution_count": 60,
          "metadata": {},
          "output_type": "execute_result"
        }
      ],
      "source": [
        "d1.values()"
      ]
    },
    {
      "cell_type": "code",
      "execution_count": null,
      "metadata": {
        "id": "hs8j6Z3g2ZxG",
        "outputId": "10b43021-4ab5-41e2-8833-d32f991f5d50"
      },
      "outputs": [
        {
          "data": {
            "text/plain": [
              "['a', 'b', 'c']"
            ]
          },
          "execution_count": 61,
          "metadata": {},
          "output_type": "execute_result"
        }
      ],
      "source": [
        "list(d1.keys())\n"
      ]
    },
    {
      "cell_type": "code",
      "execution_count": null,
      "metadata": {
        "id": "cvvQkuHV2ZxH",
        "outputId": "3e4c194c-60bc-48b5-bba3-93c64f31a0bd"
      },
      "outputs": [
        {
          "data": {
            "text/plain": [
              "['some value', [1, 2, 3, 4], 999]"
            ]
          },
          "execution_count": 62,
          "metadata": {},
          "output_type": "execute_result"
        }
      ],
      "source": [
        "list(d1.values())"
      ]
    },
    {
      "cell_type": "markdown",
      "metadata": {
        "id": "cQ3EL0112ZxI"
      },
      "source": [
        "#### Anonymous (Lambda) Functions\n",
        "\n",
        "def sqr(x): \n",
        "return x ** 2\n",
        "     \n",
        "##### sqr = lambda x: x **2\n"
      ]
    },
    {
      "cell_type": "code",
      "execution_count": null,
      "metadata": {
        "id": "zqfbgIDv2ZxJ"
      },
      "outputs": [],
      "source": [
        "f=lambda x:x**2"
      ]
    },
    {
      "cell_type": "code",
      "execution_count": null,
      "metadata": {
        "id": "CmT_X_VM2ZxK",
        "outputId": "5251d67e-76a5-4e27-a9b2-3e81a5fbdb31"
      },
      "outputs": [
        {
          "data": {
            "text/plain": [
              "81"
            ]
          },
          "execution_count": 2,
          "metadata": {},
          "output_type": "execute_result"
        }
      ],
      "source": [
        "f(9)"
      ]
    },
    {
      "cell_type": "markdown",
      "metadata": {
        "id": "3TlE3v-s2ZxK"
      },
      "source": [
        "#### Thanks! This much for this module. \n",
        "#### Don't forget to follow me for more such stuff.\n",
        "* https://www.linkedin.com/in/ramendra-kumar-57334478/\n",
        "* https://github.com/Rami-RK\n",
        "\n",
        "#### Feel free to share."
      ]
    }
  ],
  "metadata": {
    "kernelspec": {
      "display_name": "Python 3",
      "language": "python",
      "name": "python3"
    },
    "language_info": {
      "codemirror_mode": {
        "name": "ipython",
        "version": 3
      },
      "file_extension": ".py",
      "mimetype": "text/x-python",
      "name": "python",
      "nbconvert_exporter": "python",
      "pygments_lexer": "ipython3",
      "version": "3.7.1"
    },
    "colab": {
      "name": "Tuple_List_Dictionary_Ramen.ipynb",
      "provenance": [],
      "include_colab_link": true
    }
  },
  "nbformat": 4,
  "nbformat_minor": 0
}